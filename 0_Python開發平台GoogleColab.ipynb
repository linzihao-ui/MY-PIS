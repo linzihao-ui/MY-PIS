{
  "nbformat": 4,
  "nbformat_minor": 0,
  "metadata": {
    "colab": {
      "name": "0_Python開發平台GoogleColab.ipynb",
      "provenance": [],
      "collapsed_sections": []
    },
    "kernelspec": {
      "name": "python3",
      "display_name": "Python 3"
    }
  },
  "cells": [
    {
      "cell_type": "code",
      "metadata": {
        "id": "eRXNyncX2x1X",
        "colab": {
          "base_uri": "https://localhost:8080/",
          "height": 153
        },
        "outputId": "34fa9bfe-e73a-476b-e9ff-3a6e79feb00d"
      },
      "source": [
        "print(\"XXX在崑山科技大學受恩師龍大大洗禮 20201026\" )\n",
        "\n",
        "import pandas as pd\n",
        "print(\"pandas version: %s\" % pd.__version__)\n",
        " \n",
        "import matplotlib\n",
        "print(\"matplotlib version: %s\" % matplotlib.__version__)\n",
        " \n",
        "import numpy as np\n",
        "print(\"numpy version: %s\" % np.__version__)\n",
        " \n",
        "import sklearn\n",
        "print(\"scikit-learn version: %s\" % sklearn.__version__)\n",
        " \n",
        "import tensorflow as tf\n",
        "print(\"tensorflow version: %s\" % tf.__version__)\n",
        " \n",
        "import torc\n",
        "print(\"2020年3月PyTorch version最新版本 是1.4 請參閱https://pytorch.org/\")"
      ],
      "execution_count": null,
      "outputs": [
        {
          "output_type": "stream",
          "text": [
            "XXX在崑山科技大學受恩師龍大大洗禮 20201026\n",
            "pandas version: 1.1.2\n",
            "matplotlib version: 3.2.2\n",
            "numpy version: 1.18.5\n",
            "scikit-learn version: 0.22.2.post1\n",
            "tensorflow version: 2.3.0\n",
            "PyTorch version: 1.6.0+cu101\n",
            "2020年3月PyTorch version最新版本 是1.4 請參閱https://pytorch.org/\n"
          ],
          "name": "stdout"
        }
      ]
    },
    {
      "cell_type": "markdown",
      "metadata": {
        "id": "A5u7Sj2Xe2JB"
      },
      "source": [
        "# 我的筆記 20201204\n",
        "## 軟體套建載入:\n",
        "\n",
        "使用 import\n",
        "\n",
        "import pandas(軟體套件) as pd (小明)\n",
        "\n",
        "使用方式: pd.XXXXX\n",
        "\n",
        "## 認識套件\n",
        "\n",
        "pandas\n",
        "\n",
        "\n",
        "\n",
        "tensorflow\n",
        "\n",
        "\n",
        "\n",
        "## python格式化輸出技術\n",
        "\n",
        "print(\"PyTorch version: %s\" %torch.__version__)\n",
        "\n",
        "字串(位置) % (要輸出的內容torch.__version__)\n",
        "\n"
      ]
    }
  ]
}